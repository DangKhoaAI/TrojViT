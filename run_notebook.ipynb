{
 "cells": [
  {
   "cell_type": "code",
   "execution_count": null,
   "metadata": {
    "vscode": {
     "languageId": "plaintext"
    }
   },
   "outputs": [],
   "source": [
    "!git clone https://github.com/DangKhoaAI/TrojViT\n"
   ]
  },
  {
   "cell_type": "code",
   "execution_count": null,
   "metadata": {
    "vscode": {
     "languageId": "plaintext"
    }
   },
   "outputs": [],
   "source": [
    "\n",
    "!ls\n",
    "%cd TrojViT"
   ]
  },
  {
   "cell_type": "code",
   "execution_count": null,
   "metadata": {
    "vscode": {
     "languageId": "plaintext"
    }
   },
   "outputs": [],
   "source": [
    "!pip install torch torchvision timm scipy matplotlib torchinfo datasets\n"
   ]
  },
  {
   "cell_type": "code",
   "execution_count": null,
   "metadata": {
    "vscode": {
     "languageId": "plaintext"
    }
   },
   "outputs": [],
   "source": [
    "from datasets import load_dataset\n",
    "import os\n",
    "\n",
    "# Tải tập dữ liệu\n",
    "\n",
    "ds = load_dataset(\"timm/mini-imagenet\")\n",
    "\n",
    "# Tạo thư mục lưu trữ\n",
    "val_dir = \"/mnt/mdata/new/imagenet/val\"\n",
    "os.makedirs(val_dir, exist_ok=True)\n",
    "\n",
    "# Lưu dữ liệu từ split 'valid'\n",
    "for i, example in enumerate(ds['valid']): \n",
    "    label = example['label']  # Tên lớp\n",
    "    img_path = os.path.join(val_dir, f\"{label}_{i}.jpg\")\n",
    "    with open(img_path, \"wb\") as f:\n",
    "        f.write(example['image'].tobytes())\n",
    "\n",
    "print(f\"Dữ liệu đã được lưu vào {val_dir}\")"
   ]
  },
  {
   "cell_type": "code",
   "execution_count": null,
   "metadata": {
    "vscode": {
     "languageId": "plaintext"
    }
   },
   "outputs": [],
   "source": [
    "!python3 main_patch_vit.py --learnable_mask_stop=21 --epoch=21"
   ]
  }
 ],
 "metadata": {
  "language_info": {
   "name": "python"
  }
 },
 "nbformat": 4,
 "nbformat_minor": 2
}
